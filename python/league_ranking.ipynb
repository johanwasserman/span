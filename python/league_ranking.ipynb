{
 "cells": [
  {
   "cell_type": "code",
   "execution_count": 1,
   "metadata": {},
   "outputs": [],
   "source": [
    "from typing import List, Tuple, Dict\n",
    "from collections import defaultdict"
   ]
  },
  {
   "cell_type": "code",
   "execution_count": 2,
   "metadata": {},
   "outputs": [],
   "source": [
    "input_lines = open('../input_file.txt').read().splitlines()"
   ]
  },
  {
   "cell_type": "code",
   "execution_count": 3,
   "metadata": {},
   "outputs": [
    {
     "data": {
      "text/plain": [
       "['Lions 3, Snakes 3',\n",
       " 'Tarantulas 1, FC Awesome 0',\n",
       " 'Lions 1, FC Awesome 1',\n",
       " 'Tarantulas 3, Snakes 1',\n",
       " 'Lions 4, Grouches 0']"
      ]
     },
     "execution_count": 3,
     "metadata": {},
     "output_type": "execute_result"
    }
   ],
   "source": [
    "input_lines"
   ]
  },
  {
   "cell_type": "markdown",
   "metadata": {},
   "source": [
    "Extract the two teams and their scores from the input. Validate input and isolate parsing logic, making it easy to test and maintain."
   ]
  },
  {
   "cell_type": "code",
   "execution_count": 4,
   "metadata": {},
   "outputs": [],
   "source": [
    "def parse_result(result_line: str) -> Tuple[str, int, str, int]:\n",
    "    try:\n",
    "        parts = result_line.split(',')\n",
    "        team1_data = parts[0].rsplit(' ', 1)\n",
    "        team2_data = parts[1].rsplit(' ', 1)\n",
    "        \n",
    "        team1 = team1_data[0].strip()\n",
    "        score1 = int(team1_data[1].strip())\n",
    "        team2 = team2_data[0].strip()\n",
    "        score2 = int(team2_data[1].strip())\n",
    "        \n",
    "        return team1, score1, team2, score2\n",
    "    except (ValueError, IndexError) as e:\n",
    "        raise ValueError(f\"Error parsing result: {result_line}\") from e"
   ]
  },
  {
   "cell_type": "markdown",
   "metadata": {},
   "source": [
    "Update the standings (team points) based on match outcomes (win, loss, draw). Focus purely on business logic (rules of the game), which is clean and easy to extend."
   ]
  },
  {
   "cell_type": "code",
   "execution_count": 5,
   "metadata": {},
   "outputs": [],
   "source": [
    "def update_standings(\n",
    "    standings: defaultdict[str, int], \n",
    "    team1: str, score1: int, \n",
    "    team2: str, score2: int\n",
    ") -> None:\n",
    "\n",
    "    standings[team1] += 0\n",
    "    standings[team2] += 0\n",
    "    \n",
    "    if score1 > score2:\n",
    "        standings[team1] += 3\n",
    "    elif score1 < score2:\n",
    "        standings[team2] += 3\n",
    "    else:\n",
    "        standings[team1] += 1\n",
    "        standings[team2] += 1"
   ]
  },
  {
   "cell_type": "code",
   "execution_count": 6,
   "metadata": {},
   "outputs": [
    {
     "data": {
      "text/plain": [
       "defaultdict(int,\n",
       "            {'Lions': 5,\n",
       "             'Snakes': 1,\n",
       "             'Tarantulas': 6,\n",
       "             'FC Awesome': 1,\n",
       "             'Grouches': 0})"
      ]
     },
     "execution_count": 6,
     "metadata": {},
     "output_type": "execute_result"
    }
   ],
   "source": [
    "standings: defaultdict[str, int] = defaultdict(int)\n",
    "for line in input_lines:\n",
    "    team1, score1, team2, score2 = parse_result(line)\n",
    "    update_standings(standings, team1, score1, team2, score2)\n",
    "    \n",
    "standings"
   ]
  },
  {
   "cell_type": "markdown",
   "metadata": {},
   "source": [
    "Return the standings, sorted by points and team names. This function separates the sorting logic from the rest of the system, making it flexible for changes (if sorting rules change)."
   ]
  },
  {
   "cell_type": "code",
   "execution_count": 7,
   "metadata": {},
   "outputs": [],
   "source": [
    "def get_sorted_standings(standings: Dict[str, int]) -> List[Tuple[str, int]]:\n",
    "    return sorted(standings.items(), key=lambda x: (-x[1], x[0]))"
   ]
  },
  {
   "cell_type": "code",
   "execution_count": 8,
   "metadata": {},
   "outputs": [
    {
     "data": {
      "text/plain": [
       "[('Tarantulas', 6),\n",
       " ('Lions', 5),\n",
       " ('FC Awesome', 1),\n",
       " ('Snakes', 1),\n",
       " ('Grouches', 0)]"
      ]
     },
     "execution_count": 8,
     "metadata": {},
     "output_type": "execute_result"
    }
   ],
   "source": [
    "sorted_standings = get_sorted_standings(standings)\n",
    "sorted_standings"
   ]
  },
  {
   "cell_type": "markdown",
   "metadata": {},
   "source": [
    "Format the final sorted standings for display. This focuses purely on presentation (output format)."
   ]
  },
  {
   "cell_type": "code",
   "execution_count": 9,
   "metadata": {},
   "outputs": [],
   "source": [
    "def format_standings(sorted_standings: List[Tuple[str, int]]) -> str:\n",
    "    output = []\n",
    "    rank = 1\n",
    "    prev_points = None\n",
    "    for i, (team, points) in enumerate(sorted_standings):\n",
    "        if points != prev_points:\n",
    "            rank = i + 1\n",
    "        prev_points = points\n",
    "        output.append(f\"{rank}. {team}, {points} pt{'s' if points != 1 else ''}\")\n",
    "    return \"\\n\".join(output)"
   ]
  },
  {
   "cell_type": "code",
   "execution_count": 10,
   "metadata": {},
   "outputs": [
    {
     "name": "stdout",
     "output_type": "stream",
     "text": [
      "1. Tarantulas, 6 pts\n",
      "2. Lions, 5 pts\n",
      "3. FC Awesome, 1 pt\n",
      "3. Snakes, 1 pt\n",
      "5. Grouches, 0 pts\n"
     ]
    }
   ],
   "source": [
    "result = format_standings(sorted_standings)\n",
    "print(result)"
   ]
  },
  {
   "cell_type": "markdown",
   "metadata": {},
   "source": [
    "---"
   ]
  }
 ],
 "metadata": {
  "kernelspec": {
   "display_name": "asmt",
   "language": "python",
   "name": "python3"
  },
  "language_info": {
   "codemirror_mode": {
    "name": "ipython",
    "version": 3
   },
   "file_extension": ".py",
   "mimetype": "text/x-python",
   "name": "python",
   "nbconvert_exporter": "python",
   "pygments_lexer": "ipython3",
   "version": "3.13.0"
  }
 },
 "nbformat": 4,
 "nbformat_minor": 2
}
